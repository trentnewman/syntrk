{
 "cells": [
  {
   "cell_type": "code",
   "execution_count": 1,
   "id": "f540b1b8",
   "metadata": {},
   "outputs": [],
   "source": [
    "import os\n",
    "import subprocess\n",
    "from Bio import AlignIO\n",
    "import pandas as pd"
   ]
  },
  {
   "cell_type": "code",
   "execution_count": 2,
   "id": "2eb95554",
   "metadata": {},
   "outputs": [],
   "source": [
    "tst = 1\n",
    "wrky = 5"
   ]
  },
  {
   "cell_type": "code",
   "execution_count": 3,
   "id": "fa8840ad",
   "metadata": {},
   "outputs": [],
   "source": [
    "## LSTZ"
   ]
  },
  {
   "cell_type": "code",
   "execution_count": 4,
   "id": "117771da",
   "metadata": {},
   "outputs": [
    {
     "data": {
      "text/plain": [
       "['ann', 'test1', 'extseq', 'jup', 'cmpar']"
      ]
     },
     "execution_count": 4,
     "metadata": {},
     "output_type": "execute_result"
    }
   ],
   "source": [
    "#\n",
    "ddir = '../'\n",
    "ndir = 'test'+str(tst)\n",
    "os.listdir(ddir)"
   ]
  },
  {
   "cell_type": "code",
   "execution_count": 5,
   "id": "24a68e0b",
   "metadata": {},
   "outputs": [
    {
     "name": "stderr",
     "output_type": "stream",
     "text": [
      "mkdir: cannot create directory ‘../test1’: File exists\n",
      "mkdir: cannot create directory ‘../test1/lst’: File exists\n"
     ]
    }
   ],
   "source": [
    "#\n",
    "try:\n",
    "    subprocess.call(['mkdir',ddir+ndir])\n",
    "    subprocess.call(['mkdir',ddir+ndir+'/'+'lst'])\n",
    "except:\n",
    "    print('dir present')"
   ]
  },
  {
   "cell_type": "code",
   "execution_count": 6,
   "id": "010d7491",
   "metadata": {},
   "outputs": [
    {
     "data": {
      "text/plain": [
       "('/home/trent/Bio/lastz-1.04.15/src/',\n",
       " '/media/trent/INT2TB/root2/Work/UoM/Research/GOI/dmr_lk/tammar/PRKACB/Species/LastZ/5/extseq/1/')"
      ]
     },
     "execution_count": 6,
     "metadata": {},
     "output_type": "execute_result"
    }
   ],
   "source": [
    "#\n",
    "lst_loc = '/home/trent/Bio/'\n",
    "lst_nm = 'lastz-1.04.15/src/'\n",
    "lst_pl = lst_loc+lst_nm\n",
    "#\n",
    "cpte = '/media/trent/INT2TB/root2/'\n",
    "g_loc = cpte+'Work/UoM/Research/GOI/dmr_lk/tammar/PRKACB/Species/LastZ/'+str(wrky)+'/extseq/'+str(tst)+'/'\n",
    "lst_pl, g_loc"
   ]
  },
  {
   "cell_type": "code",
   "execution_count": 7,
   "id": "1d119420",
   "metadata": {},
   "outputs": [],
   "source": [
    "# loop\n",
    "df = pd.read_csv('../cmpar/cmpr'+str(tst)+'.csv', sep=',')\n",
    "for i in range(len(df['num'])):\n",
    "    #\n",
    "    onam = 'out'+\"{:02d}\".format(df.iloc[i]['num'])\n",
    "    #\n",
    "    g1 = df.iloc[i]['a']\n",
    "    g2 = df.iloc[i]['b']\n",
    "    #\n",
    "    cmds = [lst_pl+'lastz']\n",
    "    cmds = cmds+[g_loc+g1]\n",
    "    cmds = cmds+[g_loc+g2]\n",
    "    cmds = cmds+[\n",
    "        '--transition',\n",
    "        '--step=1',\n",
    "        '--gfextend',\n",
    "        '--chain',\n",
    "        '--gapped',\n",
    "        '--strand=both',\n",
    "    ]\n",
    "    cmds1 = cmds+['‑‑format=rdotplot']\n",
    "    cmds2 = cmds+['‑‑format=maf']\n",
    "    #\n",
    "    f1 = open(ddir+ndir+'/'+'lst'+'/'+onam+'.tsv', 'w')\n",
    "    ps1 = subprocess.Popen(cmds1, stdout=f1)\n",
    "    ps1.wait()\n",
    "    f2 = open(ddir+ndir+'/'+'lst'+'/'+onam+'.maf', 'w')\n",
    "    ps2 = subprocess.Popen(cmds2, stdout=f2)\n",
    "    ps2.wait()"
   ]
  },
  {
   "cell_type": "code",
   "execution_count": 8,
   "id": "91720a31",
   "metadata": {},
   "outputs": [],
   "source": [
    "## PCOM"
   ]
  },
  {
   "cell_type": "code",
   "execution_count": 9,
   "id": "f54f5137",
   "metadata": {},
   "outputs": [
    {
     "data": {
      "text/html": [
       "<div>\n",
       "<style scoped>\n",
       "    .dataframe tbody tr th:only-of-type {\n",
       "        vertical-align: middle;\n",
       "    }\n",
       "\n",
       "    .dataframe tbody tr th {\n",
       "        vertical-align: top;\n",
       "    }\n",
       "\n",
       "    .dataframe thead th {\n",
       "        text-align: right;\n",
       "    }\n",
       "</style>\n",
       "<table border=\"1\" class=\"dataframe\">\n",
       "  <thead>\n",
       "    <tr style=\"text-align: right;\">\n",
       "      <th></th>\n",
       "      <th>num</th>\n",
       "      <th>a</th>\n",
       "      <th>b</th>\n",
       "    </tr>\n",
       "  </thead>\n",
       "  <tbody>\n",
       "    <tr>\n",
       "      <th>0</th>\n",
       "      <td>0</td>\n",
       "      <td>Human.fasta</td>\n",
       "      <td>Mouse.fasta</td>\n",
       "    </tr>\n",
       "    <tr>\n",
       "      <th>1</th>\n",
       "      <td>1</td>\n",
       "      <td>Mouse.fasta</td>\n",
       "      <td>Elephant.fasta</td>\n",
       "    </tr>\n",
       "    <tr>\n",
       "      <th>2</th>\n",
       "      <td>2</td>\n",
       "      <td>Elephant.fasta</td>\n",
       "      <td>Echidna.fasta</td>\n",
       "    </tr>\n",
       "    <tr>\n",
       "      <th>3</th>\n",
       "      <td>3</td>\n",
       "      <td>Echidna.fasta</td>\n",
       "      <td>Platypus.fasta</td>\n",
       "    </tr>\n",
       "    <tr>\n",
       "      <th>4</th>\n",
       "      <td>4</td>\n",
       "      <td>Platypus.fasta</td>\n",
       "      <td>Agilis.fasta</td>\n",
       "    </tr>\n",
       "  </tbody>\n",
       "</table>\n",
       "</div>"
      ],
      "text/plain": [
       "   num               a               b\n",
       "0    0     Human.fasta     Mouse.fasta\n",
       "1    1     Mouse.fasta  Elephant.fasta\n",
       "2    2  Elephant.fasta   Echidna.fasta\n",
       "3    3   Echidna.fasta  Platypus.fasta\n",
       "4    4  Platypus.fasta    Agilis.fasta"
      ]
     },
     "execution_count": 9,
     "metadata": {},
     "output_type": "execute_result"
    }
   ],
   "source": [
    "df = pd.read_csv('../cmpar/cmpr'+str(tst)+'.csv',sep=',')\n",
    "df.head()"
   ]
  },
  {
   "cell_type": "code",
   "execution_count": 10,
   "id": "ff298471",
   "metadata": {},
   "outputs": [],
   "source": [
    "dirrie = '../test'+str(tst)+'/'\n",
    "fils = sorted(os.listdir(dirrie+'lst/'))\n",
    "fils = [f for f in fils if '.maf' in f]\n",
    "# fils"
   ]
  },
  {
   "cell_type": "code",
   "execution_count": 11,
   "id": "b891956b",
   "metadata": {},
   "outputs": [],
   "source": [
    "allie = []\n",
    "for f in fils:\n",
    "    alignments = AlignIO.parse(open(dirrie+'/lst/'+f), \"maf\")\n",
    "    records = []\n",
    "    for record in alignments:\n",
    "        records.append(record)\n",
    "    rrd = []\n",
    "    for r in range(len(records)):\n",
    "        rs = records[r][0].annotations['start']\n",
    "        qs = records[r][1].annotations['start']\n",
    "        rl = records[r][0].annotations['size']\n",
    "        ql = records[r][1].annotations['size']\n",
    "        re = rs+rl        \n",
    "        if records[r][0].annotations['strand'] == -1:\n",
    "            re = rs-rl  #- # shouldn't have any for ref          \n",
    "        else:\n",
    "            re = rs+rl\n",
    "        if records[r][1].annotations['strand'] == -1:\n",
    "            qqt = records[r][1].annotations['start']\n",
    "            qqs = records[r][1].annotations['size']\n",
    "            qqz = records[r][1].annotations['srcSize']\n",
    "            qs = qqz-qqt\n",
    "            qe = (qqz-qqt)-qqs\n",
    "#             qe = qs-ql  #- # The complicated thing above is correct\n",
    "        else:\n",
    "#             print('+')\n",
    "            qe = qs+ql\n",
    "#         rn = records[r][0].name\n",
    "#         qn = records[r][1].name\n",
    "        on = f\n",
    "        on = on.replace('out','')\n",
    "        on = on.replace('.maf','')\n",
    "        on = int(on)\n",
    "        sdf = df[df['num']==on]\n",
    "        rn = sdf['a'].iloc[0]\n",
    "        qn = sdf['b'].iloc[0]\n",
    "        rrd.append([rs,qs,re,qe,rl,ql,rn,qn])\n",
    "    rrd = pd.DataFrame(rrd)\n",
    "    allie.append(rrd)\n",
    "allie = pd.concat(allie)\n",
    "allie.columns = [\n",
    "    'REF_START','QUERY_START',\n",
    "    'REF_END','QUERY_END',\n",
    "    'REF_LENGTH','QUERY_LENGTH',\n",
    "    'REF_NAME','QUERY_NAME'\n",
    "]\n",
    "allie = allie.reset_index(drop=False)\n",
    "allie.to_csv(dirrie+'coords.tsv',sep='\\t',index=False)"
   ]
  }
 ],
 "metadata": {
  "kernelspec": {
   "display_name": "Python 3 (ipykernel)",
   "language": "python",
   "name": "python3"
  },
  "language_info": {
   "codemirror_mode": {
    "name": "ipython",
    "version": 3
   },
   "file_extension": ".py",
   "mimetype": "text/x-python",
   "name": "python",
   "nbconvert_exporter": "python",
   "pygments_lexer": "ipython3",
   "version": "3.8.10"
  }
 },
 "nbformat": 4,
 "nbformat_minor": 5
}
