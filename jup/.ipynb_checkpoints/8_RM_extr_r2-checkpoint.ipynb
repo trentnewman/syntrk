{
 "cells": [
  {
   "cell_type": "code",
   "execution_count": 1,
   "id": "10b5564c",
   "metadata": {},
   "outputs": [],
   "source": [
    "import os\n",
    "import pandas as pd\n",
    "import numpy as np\n",
    "from tqdm import tqdm\n",
    "import matplotlib.pyplot as plt"
   ]
  },
  {
   "cell_type": "code",
   "execution_count": 2,
   "id": "11324bce",
   "metadata": {},
   "outputs": [],
   "source": [
    "tst = 2"
   ]
  },
  {
   "cell_type": "code",
   "execution_count": 3,
   "id": "7bed6d1c",
   "metadata": {},
   "outputs": [
    {
     "data": {
      "text/plain": [
       "['Tammar_foc.fasta.out',\n",
       " 'Mouse_foc.fasta.out',\n",
       " 'Human_foc.fasta.out',\n",
       " 'Echidna_foc.fasta.out',\n",
       " 'Elephant_foc.fasta.out',\n",
       " 'Brushtail_foc.fasta.out',\n",
       " 'Opossum_foc.fasta.out',\n",
       " 'Agilis_foc.fasta.out',\n",
       " 'Platypus_foc.fasta.out',\n",
       " 'Koala_foc.fasta.out']"
      ]
     },
     "execution_count": 3,
     "metadata": {},
     "output_type": "execute_result"
    }
   ],
   "source": [
    "dir1 = '../repeats/'+str(tst)+'/mammals/'\n",
    "# os.listdir(dir1)\n",
    "fils = os.listdir(dir1)\n",
    "fils = [f for f in fils if '.out' in f]\n",
    "fils = [f for f in fils if '_comb.csv' not in f]\n",
    "fils"
   ]
  },
  {
   "cell_type": "code",
   "execution_count": 4,
   "id": "066bd854",
   "metadata": {},
   "outputs": [
    {
     "name": "stderr",
     "output_type": "stream",
     "text": [
      "100%|████████████████████████████████████████| 52/52 [00:00<00:00, 56961.04it/s]\n",
      "100%|████████████████████████████████████████| 42/42 [00:00<00:00, 59253.54it/s]\n",
      "100%|████████████████████████████████████████| 41/41 [00:00<00:00, 56234.95it/s]\n",
      "100%|██████████████████████████████████████| 113/113 [00:00<00:00, 22607.03it/s]\n",
      "100%|████████████████████████████████████████| 30/30 [00:00<00:00, 31269.66it/s]\n",
      "100%|████████████████████████████████████████| 47/47 [00:00<00:00, 26824.37it/s]\n",
      "100%|████████████████████████████████████████| 40/40 [00:00<00:00, 14456.89it/s]\n",
      "100%|████████████████████████████████████████| 52/52 [00:00<00:00, 18214.78it/s]\n",
      "100%|██████████████████████████████████████| 100/100 [00:00<00:00, 36358.39it/s]\n",
      "100%|████████████████████████████████████████| 52/52 [00:00<00:00, 50428.63it/s]\n"
     ]
    }
   ],
   "source": [
    "dee = []\n",
    "for fil in fils:\n",
    "    with open(dir1+fil) as f:\n",
    "        lines = f.readlines()\n",
    "        infie = []\n",
    "        rend = 10\n",
    "        rend = len(lines)\n",
    "        for i in tqdm(range(3,rend)):\n",
    "            info = lines[i].split(' ')\n",
    "            info = [e for e in info if e != '']\n",
    "            info = [e.replace('\\n','') for e in info]\n",
    "            infie.append(info)\n",
    "        df = pd.DataFrame(infie)\n",
    "        df.drop(df.columns[len(df.columns)-1], axis=1, inplace=True)\n",
    "        df.columns = ['SW_score', 'perc_div', 'perc_del', 'perc_ins', 'query_seq',\n",
    "                     'qpos_begin', 'qpos_end', 'q(left)', 'match', 'matching_repeat', \n",
    "                      'repeat_class', 'rpos_begin', 'rpos_end', 'r(left)', 'ID']\n",
    "        df['file'] = fil.replace('.fa.out','')\n",
    "        dee.append(df)\n",
    "df = pd.concat(dee)\n",
    "#         df.to_csv(dir1+fil+'.csv', index=False)"
   ]
  },
  {
   "cell_type": "code",
   "execution_count": 7,
   "id": "7d4b876d",
   "metadata": {},
   "outputs": [
    {
     "data": {
      "text/html": [
       "<div>\n",
       "<style scoped>\n",
       "    .dataframe tbody tr th:only-of-type {\n",
       "        vertical-align: middle;\n",
       "    }\n",
       "\n",
       "    .dataframe tbody tr th {\n",
       "        vertical-align: top;\n",
       "    }\n",
       "\n",
       "    .dataframe thead th {\n",
       "        text-align: right;\n",
       "    }\n",
       "</style>\n",
       "<table border=\"1\" class=\"dataframe\">\n",
       "  <thead>\n",
       "    <tr style=\"text-align: right;\">\n",
       "      <th></th>\n",
       "      <th>nm</th>\n",
       "      <th>gdrpr</th>\n",
       "      <th>anm</th>\n",
       "      <th>cnf</th>\n",
       "      <th>ccc</th>\n",
       "      <th>st</th>\n",
       "      <th>en</th>\n",
       "      <th>dr</th>\n",
       "      <th>est</th>\n",
       "      <th>een</th>\n",
       "      <th>stn</th>\n",
       "      <th>enn</th>\n",
       "    </tr>\n",
       "  </thead>\n",
       "  <tbody>\n",
       "    <tr>\n",
       "      <th>0</th>\n",
       "      <td>Human</td>\n",
       "      <td>../../../../../../../../Genome/</td>\n",
       "      <td>Human/GRCh38/Split/</td>\n",
       "      <td>Homo_sapiens.GRCh38.dna.chromosome.1.fa</td>\n",
       "      <td>1</td>\n",
       "      <td>83865024</td>\n",
       "      <td>84389957</td>\n",
       "      <td>+</td>\n",
       "      <td>84063024</td>\n",
       "      <td>84093024</td>\n",
       "      <td>0</td>\n",
       "      <td>524933</td>\n",
       "    </tr>\n",
       "    <tr>\n",
       "      <th>1</th>\n",
       "      <td>Mouse</td>\n",
       "      <td>../../../../../../../../Genome/</td>\n",
       "      <td>Mouse/splitty/</td>\n",
       "      <td>Mus_musculus.GRCm39.dna.toplevel.fa_3.fa</td>\n",
       "      <td>3</td>\n",
       "      <td>146350950</td>\n",
       "      <td>146689764</td>\n",
       "      <td>-</td>\n",
       "      <td>146503764</td>\n",
       "      <td>146533764</td>\n",
       "      <td>0</td>\n",
       "      <td>338814</td>\n",
       "    </tr>\n",
       "  </tbody>\n",
       "</table>\n",
       "</div>"
      ],
      "text/plain": [
       "      nm                            gdrpr                  anm  \\\n",
       "0  Human  ../../../../../../../../Genome/  Human/GRCh38/Split/   \n",
       "1  Mouse  ../../../../../../../../Genome/       Mouse/splitty/   \n",
       "\n",
       "                                        cnf ccc         st         en dr  \\\n",
       "0   Homo_sapiens.GRCh38.dna.chromosome.1.fa   1   83865024   84389957  +   \n",
       "1  Mus_musculus.GRCm39.dna.toplevel.fa_3.fa   3  146350950  146689764  -   \n",
       "\n",
       "         est        een  stn     enn  \n",
       "0   84063024   84093024    0  524933  \n",
       "1  146503764  146533764    0  338814  "
      ]
     },
     "execution_count": 7,
     "metadata": {},
     "output_type": "execute_result"
    }
   ],
   "source": [
    "dir2 = '../extseq/'+str(tst)+'/'\n",
    "os.listdir(dir2)\n",
    "reg = pd.read_csv(dir2+'regions.csv')\n",
    "reg.head(2)"
   ]
  },
  {
   "cell_type": "code",
   "execution_count": 8,
   "id": "346a921c",
   "metadata": {},
   "outputs": [
    {
     "data": {
      "text/plain": [
       "'Tammar_foc.fasta.out'"
      ]
     },
     "execution_count": 8,
     "metadata": {},
     "output_type": "execute_result"
    }
   ],
   "source": [
    "df['file'].iloc[i]"
   ]
  },
  {
   "cell_type": "code",
   "execution_count": 9,
   "id": "4e3d7d4d",
   "metadata": {},
   "outputs": [],
   "source": [
    "l_sp = []\n",
    "l_st = []\n",
    "l_en = []\n",
    "for i in range(len(df['file'])):\n",
    "    #\n",
    "    fn = df['file'].iloc[i]\n",
    "    fn1 = fn.replace('_foc.fasta.out','')\n",
    "    l_sp.append(fn1)\n",
    "    #\n",
    "    l_st.append(reg[reg['nm']==fn1]['st'].iloc[0])\n",
    "    l_en.append(reg[reg['nm']==fn1]['en'].iloc[0])\n",
    "    #\n",
    "df['spec'] = l_sp\n",
    "df['reg_st'] = l_st\n",
    "df['reg_en'] = l_en"
   ]
  },
  {
   "cell_type": "code",
   "execution_count": 10,
   "id": "c6a448e2",
   "metadata": {},
   "outputs": [],
   "source": [
    "df2 = df\n",
    "#\n",
    "othename = 'Other\\nrepeat'\n",
    "SINE = ['SINE/Alu', 'SINE/B4', 'SINE/B2', 'SINE/MIR']\n",
    "LINE = ['LINE/L1']\n",
    "LTR = ['LTR/ERVL-MaLR', 'LTR/ERVK', 'LTR/ERVL', 'LTR/ERV1']\n",
    "SIMP = ['Simple_repeat']\n",
    "SAT = ['Satellite']\n",
    "LCOM = ['Low_complexity']\n",
    "OTH = ['DNA/hAT-Charlie']\n",
    "rep_group = []\n",
    "for r in range(len(df2['repeat_class'])):\n",
    "    if df2.iloc[r]['repeat_class'] in SINE:\n",
    "        rep_group.append(othename)\n",
    "    elif df2.iloc[r]['repeat_class'] in LINE:\n",
    "        rep_group.append('LINE')\n",
    "    elif df2.iloc[r]['repeat_class'] in LTR:\n",
    "        rep_group.append('LTR')\n",
    "    elif df2.iloc[r]['repeat_class'] in SIMP:\n",
    "        rep_group.append(othename)\n",
    "    elif df2.iloc[r]['repeat_class'] in SAT:\n",
    "        rep_group.append(othename)\n",
    "    elif df2.iloc[r]['repeat_class'] in LCOM:\n",
    "        rep_group.append(othename)\n",
    "    elif df2.iloc[r]['repeat_class'] in OTH:\n",
    "        rep_group.append(othename)\n",
    "    else:\n",
    "        rep_group.append('Prob.')\n",
    "df2['rep_group'] = rep_group"
   ]
  },
  {
   "cell_type": "code",
   "execution_count": 11,
   "id": "5b0bc33b",
   "metadata": {},
   "outputs": [],
   "source": [
    "df2.to_csv(dir1+'rm_spec_r_comb.csv', index=False, sep='\\t')"
   ]
  },
  {
   "cell_type": "code",
   "execution_count": null,
   "id": "b3f1aea1",
   "metadata": {},
   "outputs": [],
   "source": []
  }
 ],
 "metadata": {
  "kernelspec": {
   "display_name": "Python 3 (ipykernel)",
   "language": "python",
   "name": "python3"
  },
  "language_info": {
   "codemirror_mode": {
    "name": "ipython",
    "version": 3
   },
   "file_extension": ".py",
   "mimetype": "text/x-python",
   "name": "python",
   "nbconvert_exporter": "python",
   "pygments_lexer": "ipython3",
   "version": "3.8.10"
  }
 },
 "nbformat": 4,
 "nbformat_minor": 5
}
