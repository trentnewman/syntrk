{
 "cells": [
  {
   "cell_type": "code",
   "execution_count": 1,
   "id": "4566a0c9",
   "metadata": {},
   "outputs": [],
   "source": [
    "import os\n",
    "import subprocess\n",
    "import pandas as pd\n",
    "from tqdm import tqdm\n",
    "import timeit"
   ]
  },
  {
   "cell_type": "code",
   "execution_count": 2,
   "id": "ca7383dd",
   "metadata": {},
   "outputs": [],
   "source": [
    "tst = 1\n",
    "wrky = 6"
   ]
  },
  {
   "cell_type": "code",
   "execution_count": 3,
   "id": "7dbda88d",
   "metadata": {},
   "outputs": [
    {
     "data": {
      "text/plain": [
       "['Agilis_foc.fasta',\n",
       " 'Brushtail_foc.fasta',\n",
       " 'Echidna_foc.fasta',\n",
       " 'Elephant_foc.fasta',\n",
       " 'Human_foc.fasta',\n",
       " 'Koala_foc.fasta',\n",
       " 'Mouse_foc.fasta',\n",
       " 'Opossum_foc.fasta',\n",
       " 'Platypus_foc.fasta',\n",
       " 'Tammar_foc.fasta']"
      ]
     },
     "execution_count": 3,
     "metadata": {},
     "output_type": "execute_result"
    }
   ],
   "source": [
    "d2_1 = '/media/trent/INT2TB/root2/Work/UoM/Research/GOI/dmr_lk/tammar/PRKACB/'\n",
    "d2_2 = 'Species/LastZ/'+str(wrky)+'/'\n",
    "d2_3 = 'extseq/'+str(tst)+'/'\n",
    "#\n",
    "dir2 = d2_1+d2_2+d2_3\n",
    "dir3 = d2_1+d2_2+'tandem/'+str(tst)+'/'\n",
    "#\n",
    "sqs = os.listdir(dir2)\n",
    "sqs = [s for s in sqs if '_foc.fa' in s]\n",
    "sqs = sorted(sqs)\n",
    "sqs"
   ]
  },
  {
   "cell_type": "code",
   "execution_count": 4,
   "id": "261bf0d9",
   "metadata": {},
   "outputs": [],
   "source": [
    "#\n",
    "try:    \n",
    "    subprocess.call(['mkdir',d2_1+d2_2+'tandem/'])\n",
    "    subprocess.call(['mkdir',dir3])\n",
    "except:\n",
    "    print('dir present')"
   ]
  },
  {
   "cell_type": "code",
   "execution_count": 5,
   "id": "776499df",
   "metadata": {},
   "outputs": [
    {
     "name": "stderr",
     "output_type": "stream",
     "text": [
      "100%|███████████████████████████████████████████| 10/10 [00:02<00:00,  4.98it/s]\n"
     ]
    }
   ],
   "source": [
    "## multi\n",
    "for i in tqdm(range(len(sqs))):\n",
    "    #\n",
    "    selly = sqs[i]\n",
    "    sellt = selly.replace('.fasta','.txt')\n",
    "    f = open(dir3+sellt, \"w\")\n",
    "    #\n",
    "    subprocess.call([\n",
    "    'trf', #tandem repeat finder\n",
    "    dir2+selly,    \n",
    "    '2','7','7','80','10','50','500',\n",
    "    '-ngs',\n",
    "    '-h' # suppress html output\n",
    "    ], \n",
    "    stdout=f,\n",
    "    )\n",
    "    #\n",
    "    df = pd.read_csv(dir3+sellt)\n",
    "    df.columns = [0]\n",
    "    ll = []\n",
    "    dd = []\n",
    "    for i in range(len(df[0])):\n",
    "        spl = df[0].iloc[i].split(' ')\n",
    "        ll.append(len(spl))\n",
    "        deets = []\n",
    "        for s in range(len(spl)):\n",
    "            deets.append(spl[s])\n",
    "        dd.append(deets)\n",
    "    cdf = pd.DataFrame(dd)\n",
    "    cdf.columns = [\n",
    "        'i_st','i_en','p_sz','c_n','cons_sz','pct_mat','pct_indl','scr',\n",
    "        'A','C','G','T','en','pat','algn_pre','algn','algn_pst'\n",
    "    ]\n",
    "    cdf['len'] = cdf['i_en'].astype(int) - cdf['i_st'].astype(int)\n",
    "    sellc = selly.replace('.fasta','.csv')\n",
    "    cdf.to_csv(dir3+sellc, index=False, sep='\\t')"
   ]
  },
  {
   "cell_type": "code",
   "execution_count": null,
   "id": "1c33cb17",
   "metadata": {},
   "outputs": [],
   "source": []
  }
 ],
 "metadata": {
  "kernelspec": {
   "display_name": "Python 3 (ipykernel)",
   "language": "python",
   "name": "python3"
  },
  "language_info": {
   "codemirror_mode": {
    "name": "ipython",
    "version": 3
   },
   "file_extension": ".py",
   "mimetype": "text/x-python",
   "name": "python",
   "nbconvert_exporter": "python",
   "pygments_lexer": "ipython3",
   "version": "3.8.10"
  }
 },
 "nbformat": 4,
 "nbformat_minor": 5
}
