{
 "cells": [
  {
   "cell_type": "code",
   "execution_count": 3,
   "id": "6ff63b46",
   "metadata": {},
   "outputs": [],
   "source": [
    "import os\n",
    "import subprocess\n",
    "from tqdm import tqdm\n",
    "import timeit"
   ]
  },
  {
   "cell_type": "code",
   "execution_count": 4,
   "id": "546b0fd4",
   "metadata": {},
   "outputs": [],
   "source": [
    "tst = 2"
   ]
  },
  {
   "cell_type": "code",
   "execution_count": 5,
   "id": "1454d90d",
   "metadata": {},
   "outputs": [],
   "source": [
    "dir1 = '/home/trent/RepeatMasker/'\n",
    "# sorted(os.listdir(dir1))"
   ]
  },
  {
   "cell_type": "code",
   "execution_count": 8,
   "id": "72413c97",
   "metadata": {},
   "outputs": [
    {
     "data": {
      "text/plain": [
       "['Agilis_foc.fasta',\n",
       " 'Brushtail_foc.fasta',\n",
       " 'Echidna_foc.fasta',\n",
       " 'Elephant_foc.fasta',\n",
       " 'Human_foc.fasta',\n",
       " 'Koala_foc.fasta',\n",
       " 'Mouse_foc.fasta',\n",
       " 'Opossum_foc.fasta',\n",
       " 'Platypus_foc.fasta',\n",
       " 'Tammar_foc.fasta']"
      ]
     },
     "execution_count": 8,
     "metadata": {},
     "output_type": "execute_result"
    }
   ],
   "source": [
    "d2_1 = '/media/trent/INT2TB/root2/Work/UoM/Research/GOI/dmr_lk/tammar/PRKACB/'\n",
    "d2_2 = 'Species/LastZ/5/'\n",
    "d2_3 = 'extseq/'+str(tst)+'/'\n",
    "#\n",
    "dir2 = d2_1+d2_2+d2_3\n",
    "dir3x = d2_1+d2_2+'repeats/'+str(tst)\n",
    "# dir3a = d2_1+d2_2+'repeats/'+str(tst)+'/general/'\n",
    "dir3b = d2_1+d2_2+'repeats/'+str(tst)+'/mammals/'\n",
    "#\n",
    "sqs = os.listdir(dir2)\n",
    "sqs = [s for s in sqs if '_foc.fa' in s]\n",
    "sqs = sorted(sqs)\n",
    "sqs"
   ]
  },
  {
   "cell_type": "code",
   "execution_count": 10,
   "id": "d4a344b1",
   "metadata": {},
   "outputs": [],
   "source": [
    "#\n",
    "try:\n",
    "    subprocess.call(['mkdir',d2_1+d2_2+'repeats/'])\n",
    "    subprocess.call(['mkdir',dir3x])\n",
    "#     subprocess.call(['mkdir',dir3a])\n",
    "    subprocess.call(['mkdir',dir3b])\n",
    "except:\n",
    "    print('dir present')"
   ]
  },
  {
   "cell_type": "code",
   "execution_count": 11,
   "id": "f135e096",
   "metadata": {},
   "outputs": [
    {
     "name": "stderr",
     "output_type": "stream",
     "text": [
      "100%|███████████████████████████████████████████| 10/10 [06:43<00:00, 40.38s/it]\n"
     ]
    }
   ],
   "source": [
    "## multi\n",
    "for i in tqdm(range(len(sqs))):\n",
    "    subprocess.call([\n",
    "        dir1+'RepeatMasker',\n",
    "        '-species', 'mammals', # no species selected: \"general\"\n",
    "        '-dir', dir3b,\n",
    "        dir2+sqs[i]], \n",
    "        stdout=subprocess.DEVNULL,\n",
    "        cwd=dir1)"
   ]
  },
  {
   "cell_type": "code",
   "execution_count": null,
   "id": "68e903b8",
   "metadata": {},
   "outputs": [],
   "source": []
  }
 ],
 "metadata": {
  "kernelspec": {
   "display_name": "Python 3 (ipykernel)",
   "language": "python",
   "name": "python3"
  },
  "language_info": {
   "codemirror_mode": {
    "name": "ipython",
    "version": 3
   },
   "file_extension": ".py",
   "mimetype": "text/x-python",
   "name": "python",
   "nbconvert_exporter": "python",
   "pygments_lexer": "ipython3",
   "version": "3.8.10"
  }
 },
 "nbformat": 4,
 "nbformat_minor": 5
}
