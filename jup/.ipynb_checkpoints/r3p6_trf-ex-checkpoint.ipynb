{
 "cells": [
  {
   "cell_type": "code",
   "execution_count": 4,
   "id": "aea51baf",
   "metadata": {},
   "outputs": [],
   "source": [
    "import os\n",
    "import subprocess\n",
    "import pandas as pd\n",
    "from tqdm import tqdm\n",
    "import timeit"
   ]
  },
  {
   "cell_type": "code",
   "execution_count": 5,
   "id": "b1f58f05",
   "metadata": {},
   "outputs": [],
   "source": [
    "tst = 1\n",
    "wrky = 6"
   ]
  },
  {
   "cell_type": "code",
   "execution_count": 6,
   "id": "d3cd39d9",
   "metadata": {},
   "outputs": [
    {
     "data": {
      "text/plain": [
       "['Agilis_foc.csv',\n",
       " 'Brushtail_foc.csv',\n",
       " 'Echidna_foc.csv',\n",
       " 'Elephant_foc.csv',\n",
       " 'Human_foc.csv',\n",
       " 'Koala_foc.csv',\n",
       " 'Mouse_foc.csv',\n",
       " 'Opossum_foc.csv',\n",
       " 'Platypus_foc.csv',\n",
       " 'Tammar_foc.csv']"
      ]
     },
     "execution_count": 6,
     "metadata": {},
     "output_type": "execute_result"
    }
   ],
   "source": [
    "d2_1 = '/media/trent/INT2TB/root2/Work/UoM/Research/GOI/dmr_lk/tammar/PRKACB/'\n",
    "d2_2 = 'Species/LastZ/'+str(wrky)+'/'\n",
    "dir3 = d2_1+d2_2+'tandem/'+str(tst)+'/'\n",
    "#\n",
    "fils = os.listdir(dir3)\n",
    "fils = [f for f in fils if '.csv' in f]\n",
    "fils = [f for f in fils if 'trf_lk' not in f]\n",
    "fils = [f for f in fils if 'trf_cmb' not in f]\n",
    "fils = sorted(fils)\n",
    "fils"
   ]
  },
  {
   "cell_type": "code",
   "execution_count": 7,
   "id": "fdadbfd1",
   "metadata": {},
   "outputs": [],
   "source": [
    "dee = []\n",
    "for f in fils:\n",
    "    df = pd.read_csv(dir3+f, sep='\\t')\n",
    "    df['f'] = f.replace('.csv','')\n",
    "    dee.append(df)\n",
    "cdf = pd.concat(dee)\n",
    "cdf.to_csv(dir3+'trf_cmb.csv', index=False, sep='\\t')"
   ]
  },
  {
   "cell_type": "code",
   "execution_count": 8,
   "id": "05087298",
   "metadata": {},
   "outputs": [],
   "source": [
    "smy = cdf.groupby('f')['len'].agg(sum)\n",
    "smy = smy.reset_index()\n",
    "smy.columns = ['seq','tr_len']\n",
    "smy['tot_len'] = 50001\n",
    "smy['tr_pct'] = round((smy['tr_len'] / smy['tot_len'])*100, 1)\n",
    "# smy"
   ]
  },
  {
   "cell_type": "code",
   "execution_count": 9,
   "id": "2c5184ba",
   "metadata": {},
   "outputs": [],
   "source": [
    "scdf = cdf\n",
    "scdf = scdf[scdf['i_st']>22500]\n",
    "scdf = scdf[scdf['i_en']<27500]\n",
    "scdf = scdf[['f', 'i_st', 'i_en', 'p_sz', 'c_n', 'len', 'pat']]\n",
    "scdf.to_csv(dir3+'trf_lk.csv', index=False, sep='\\t')\n",
    "# scdf"
   ]
  },
  {
   "cell_type": "code",
   "execution_count": null,
   "id": "f6b1cc78-a270-4129-a411-3bfb26dc0d27",
   "metadata": {},
   "outputs": [],
   "source": []
  },
  {
   "cell_type": "code",
   "execution_count": null,
   "id": "4f0f9600-ace5-42e0-9eee-9db4cd273148",
   "metadata": {},
   "outputs": [],
   "source": []
  },
  {
   "cell_type": "code",
   "execution_count": null,
   "id": "843ee8ef-a17e-485b-b04e-b3a7f3022ba0",
   "metadata": {},
   "outputs": [],
   "source": []
  }
 ],
 "metadata": {
  "kernelspec": {
   "display_name": "Python 3 (ipykernel)",
   "language": "python",
   "name": "python3"
  },
  "language_info": {
   "codemirror_mode": {
    "name": "ipython",
    "version": 3
   },
   "file_extension": ".py",
   "mimetype": "text/x-python",
   "name": "python",
   "nbconvert_exporter": "python",
   "pygments_lexer": "ipython3",
   "version": "3.8.10"
  }
 },
 "nbformat": 4,
 "nbformat_minor": 5
}
