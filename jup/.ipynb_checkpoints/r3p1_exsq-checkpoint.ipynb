{
 "cells": [
  {
   "cell_type": "code",
   "execution_count": 1,
   "id": "31e2c54c",
   "metadata": {},
   "outputs": [],
   "source": [
    "import os\n",
    "import subprocess\n",
    "import numpy as np\n",
    "import pandas as pd\n",
    "\n",
    "import pysam\n",
    "from Bio import SeqIO\n",
    "from Bio.Seq import Seq\n",
    "from Bio.SeqRecord import SeqRecord"
   ]
  },
  {
   "cell_type": "code",
   "execution_count": 2,
   "id": "c92570b7",
   "metadata": {},
   "outputs": [],
   "source": [
    "tst = 1"
   ]
  },
  {
   "cell_type": "code",
   "execution_count": 3,
   "id": "7054f7bc",
   "metadata": {},
   "outputs": [],
   "source": [
    "## EXT_SEQ"
   ]
  },
  {
   "cell_type": "code",
   "execution_count": 4,
   "id": "dd088002",
   "metadata": {},
   "outputs": [
    {
     "name": "stderr",
     "output_type": "stream",
     "text": [
      "mkdir: cannot create directory ‘../extseq/’: File exists\n",
      "mkdir: cannot create directory ‘../extseq/1’: File exists\n"
     ]
    }
   ],
   "source": [
    "#\n",
    "try:\n",
    "    subprocess.call(['mkdir','../extseq/'])\n",
    "    subprocess.call(['mkdir','../extseq/'+str(tst)])\n",
    "except:\n",
    "    print('dir present')"
   ]
  },
  {
   "cell_type": "code",
   "execution_count": 5,
   "id": "48e0210d",
   "metadata": {},
   "outputs": [],
   "source": [
    "gdrpr = '../../../../../../../../Genome/'"
   ]
  },
  {
   "cell_type": "code",
   "execution_count": 6,
   "id": "acb3bee4",
   "metadata": {},
   "outputs": [
    {
     "data": {
      "text/html": [
       "<div>\n",
       "<style scoped>\n",
       "    .dataframe tbody tr th:only-of-type {\n",
       "        vertical-align: middle;\n",
       "    }\n",
       "\n",
       "    .dataframe tbody tr th {\n",
       "        vertical-align: top;\n",
       "    }\n",
       "\n",
       "    .dataframe thead th {\n",
       "        text-align: right;\n",
       "    }\n",
       "</style>\n",
       "<table border=\"1\" class=\"dataframe\">\n",
       "  <thead>\n",
       "    <tr style=\"text-align: right;\">\n",
       "      <th></th>\n",
       "      <th>nm</th>\n",
       "      <th>gdrpr</th>\n",
       "      <th>anm</th>\n",
       "      <th>cnf</th>\n",
       "      <th>ccc</th>\n",
       "      <th>st</th>\n",
       "      <th>en</th>\n",
       "      <th>dr</th>\n",
       "      <th>est</th>\n",
       "      <th>een</th>\n",
       "      <th>stn</th>\n",
       "      <th>enn</th>\n",
       "    </tr>\n",
       "  </thead>\n",
       "  <tbody>\n",
       "    <tr>\n",
       "      <th>5</th>\n",
       "      <td>Agilis</td>\n",
       "      <td>../../../../../../../../Genome/</td>\n",
       "      <td>Agile gracile opossum/</td>\n",
       "      <td>NC_058133.1.fasta</td>\n",
       "      <td>NC_058133.1</td>\n",
       "      <td>46362259</td>\n",
       "      <td>46820989</td>\n",
       "      <td>-</td>\n",
       "      <td>46504819</td>\n",
       "      <td>46554819</td>\n",
       "      <td>0</td>\n",
       "      <td>458730</td>\n",
       "    </tr>\n",
       "    <tr>\n",
       "      <th>6</th>\n",
       "      <td>Opossum</td>\n",
       "      <td>../../../../../../../../Genome/</td>\n",
       "      <td>Opossum/mMonDom1/</td>\n",
       "      <td>NC_077228.1.fasta</td>\n",
       "      <td>NC_077228.1</td>\n",
       "      <td>46753387</td>\n",
       "      <td>47259179</td>\n",
       "      <td>-</td>\n",
       "      <td>46897453</td>\n",
       "      <td>46947453</td>\n",
       "      <td>0</td>\n",
       "      <td>505792</td>\n",
       "    </tr>\n",
       "    <tr>\n",
       "      <th>7</th>\n",
       "      <td>Koala</td>\n",
       "      <td>../../../../../../../../Genome/</td>\n",
       "      <td>Koala/split/</td>\n",
       "      <td>MSTS01000033.1.fa</td>\n",
       "      <td>MSTS01000033.1</td>\n",
       "      <td>11084609</td>\n",
       "      <td>11571851</td>\n",
       "      <td>+</td>\n",
       "      <td>11360197</td>\n",
       "      <td>11410197</td>\n",
       "      <td>0</td>\n",
       "      <td>487242</td>\n",
       "    </tr>\n",
       "    <tr>\n",
       "      <th>8</th>\n",
       "      <td>Tammar</td>\n",
       "      <td>../../../../../../../../Genome/</td>\n",
       "      <td>Tammar/V7/Split/</td>\n",
       "      <td>Tammar_Female_v7_Final-005_chr2.fa</td>\n",
       "      <td>chr2</td>\n",
       "      <td>478698693</td>\n",
       "      <td>479186192</td>\n",
       "      <td>+</td>\n",
       "      <td>478979073</td>\n",
       "      <td>479029073</td>\n",
       "      <td>0</td>\n",
       "      <td>487499</td>\n",
       "    </tr>\n",
       "    <tr>\n",
       "      <th>9</th>\n",
       "      <td>Brushtail</td>\n",
       "      <td>../../../../../../../../Genome/</td>\n",
       "      <td>Brushtail/GCF_011100635.1/ncbi_dataset/data/GC...</td>\n",
       "      <td>mTriVul1_NC_050576.1.fa</td>\n",
       "      <td>NC_050576.1</td>\n",
       "      <td>46255923</td>\n",
       "      <td>46785962</td>\n",
       "      <td>-</td>\n",
       "      <td>46424269</td>\n",
       "      <td>46474269</td>\n",
       "      <td>0</td>\n",
       "      <td>530039</td>\n",
       "    </tr>\n",
       "  </tbody>\n",
       "</table>\n",
       "</div>"
      ],
      "text/plain": [
       "          nm                            gdrpr  \\\n",
       "5     Agilis  ../../../../../../../../Genome/   \n",
       "6    Opossum  ../../../../../../../../Genome/   \n",
       "7      Koala  ../../../../../../../../Genome/   \n",
       "8     Tammar  ../../../../../../../../Genome/   \n",
       "9  Brushtail  ../../../../../../../../Genome/   \n",
       "\n",
       "                                                 anm  \\\n",
       "5                             Agile gracile opossum/   \n",
       "6                                  Opossum/mMonDom1/   \n",
       "7                                       Koala/split/   \n",
       "8                                   Tammar/V7/Split/   \n",
       "9  Brushtail/GCF_011100635.1/ncbi_dataset/data/GC...   \n",
       "\n",
       "                                  cnf             ccc         st         en  \\\n",
       "5                   NC_058133.1.fasta     NC_058133.1   46362259   46820989   \n",
       "6                   NC_077228.1.fasta     NC_077228.1   46753387   47259179   \n",
       "7                   MSTS01000033.1.fa  MSTS01000033.1   11084609   11571851   \n",
       "8  Tammar_Female_v7_Final-005_chr2.fa            chr2  478698693  479186192   \n",
       "9             mTriVul1_NC_050576.1.fa     NC_050576.1   46255923   46785962   \n",
       "\n",
       "  dr        est        een  stn     enn  \n",
       "5  -   46504819   46554819    0  458730  \n",
       "6  -   46897453   46947453    0  505792  \n",
       "7  +   11360197   11410197    0  487242  \n",
       "8  +  478979073  479029073    0  487499  \n",
       "9  -   46424269   46474269    0  530039  "
      ]
     },
     "execution_count": 6,
     "metadata": {},
     "output_type": "execute_result"
    }
   ],
   "source": [
    "lll = []\n",
    "#\n",
    "ran = 25000\n",
    "# ran = 15000\n",
    "#\n",
    "nm = 'Human'\n",
    "anm = 'Human/GRCh38/Split/'\n",
    "cnf = 'Homo_sapiens.GRCh38.dna.chromosome.1.fa'\n",
    "ccc = '1'\n",
    "st = 83865024 # TTLL7 start\n",
    "en = 84389957 # SAMD13 end\n",
    "ecp = 84078062\n",
    "est = ecp-ran\n",
    "een = ecp+ran\n",
    "dr = '+'\n",
    "lll.append([nm, gdrpr, anm, cnf, ccc, st, en, dr, est, een])\n",
    "#\n",
    "nm = 'Mouse'\n",
    "anm = 'Mouse/splitty/'\n",
    "cnf = 'Mus_musculus.GRCm39.dna.toplevel.fa_3.fa'\n",
    "ccc = '3'\n",
    "st = 146350950 # Samd13 start\n",
    "en = 146689764 # Ttll7 end\n",
    "ecp = 146518715\n",
    "est = ecp-ran\n",
    "een = ecp+ran\n",
    "dr = '-'\n",
    "lll.append([nm, gdrpr, anm, cnf, ccc, st, en, dr, est, een])\n",
    "#\n",
    "nm = 'Elephant'\n",
    "anm = 'Elephant/Split/'\n",
    "cnf = 'loxAfr3_scaffold_17.fa'\n",
    "ccc = 'scaffold_17'\n",
    "st = 6480785 - 100000 # PRKACB start\n",
    "en = 6856238 # TTLL7 end\n",
    "ecp = 6606238+10000\n",
    "est = ecp-ran\n",
    "een = ecp+ran\n",
    "dr = '-'\n",
    "lll.append([nm, gdrpr, anm, cnf, ccc, st, en, dr, est, een])\n",
    "#\n",
    "nm = 'Echidna'\n",
    "anm = 'Echidna/split/'\n",
    "cnf = 'echidna_chr4.fa'\n",
    "ccc = 'chr4'\n",
    "st = 36309973 # TTLL7 start\n",
    "en = 36863605 + 100000 # PRKACB end\n",
    "ecp = 36642175\n",
    "est = ecp-ran\n",
    "een = ecp+ran\n",
    "dr = '+'\n",
    "lll.append([nm, gdrpr, anm, cnf, ccc, st, en, dr, est, een])\n",
    "#\n",
    "nm = 'Platypus'\n",
    "anm = 'Platypus/NCBI/'\n",
    "cnf = 'NC_041731.1.fa'\n",
    "ccc = 'NC_041731.1' # chr 4\n",
    "st = 104117714 # SAMD13 start\n",
    "en = 104718778 # TTLL7 end\n",
    "ecp = 104366408\n",
    "est = ecp-ran\n",
    "een = ecp+ran\n",
    "dr = '-'\n",
    "lll.append([nm, gdrpr, anm, cnf, ccc, st, en, dr, est, een])\n",
    "#\n",
    "nm = 'Agilis'\n",
    "anm = 'Agile gracile opossum/'\n",
    "cnf = 'NC_058133.1.fasta'\n",
    "ccc = 'NC_058133.1'\n",
    "st = 46362259 # SAMD13 start\n",
    "en = 46820989 # TTLL7 end\n",
    "ecp = 46512819+17000\n",
    "est = ecp-ran\n",
    "een = ecp+ran\n",
    "dr = '-'\n",
    "lll.append([nm, gdrpr, anm, cnf, ccc, st, en, dr, est, een])\n",
    "#\n",
    "nm = 'Opossum'\n",
    "anm = 'Opossum/mMonDom1/'\n",
    "cnf = 'NC_077228.1.fasta'\n",
    "ccc = 'NC_077228.1'\n",
    "st = 46753387 # SAMD13 start\n",
    "en = 47259179 # TTLL7 end\n",
    "ecp = 46922453\n",
    "est = ecp-ran\n",
    "een = ecp+ran\n",
    "dr = '-'\n",
    "lll.append([nm, gdrpr, anm, cnf, ccc, st, en, dr, est, een])\n",
    "#\n",
    "nm = 'Koala'\n",
    "anm = 'Koala/split/'\n",
    "cnf = 'MSTS01000033.1.fa'\n",
    "ccc = 'MSTS01000033.1'\n",
    "st = 11134609 - 50000 # TTLL7 start\n",
    "en = 11571851 # SAMD13 end\n",
    "ecp = 11385197\n",
    "est = ecp-ran\n",
    "een = ecp+ran\n",
    "dr = '+'\n",
    "lll.append([nm, gdrpr, anm, cnf, ccc, st, en, dr, est, een])\n",
    "#\n",
    "nm = 'Tammar'\n",
    "anm = 'Tammar/V7/Split/'\n",
    "cnf = 'Tammar_Female_v7_Final-005_chr2.fa'\n",
    "ccc = 'chr2'\n",
    "st = 478698693 # TTLL7 start\n",
    "en = 479186192 # SAMD13 end\n",
    "ecp = 479004073\n",
    "est = ecp-ran\n",
    "een = ecp+ran\n",
    "dr = '+'\n",
    "lll.append([nm, gdrpr, anm, cnf, ccc, st, en, dr, est, een])\n",
    "#\n",
    "nm = 'Brushtail'\n",
    "anm = 'Brushtail/GCF_011100635.1/ncbi_dataset/data/GCF_011100635.1/Split/'\n",
    "cnf = 'mTriVul1_NC_050576.1.fa'\n",
    "ccc = 'NC_050576.1'\n",
    "st = 46255923 # SAMD13 start\n",
    "en = 46785962 # TTLL7 end\n",
    "ecp = 46449269\n",
    "est = ecp-ran\n",
    "een = ecp+ran\n",
    "dr = '-'\n",
    "lll.append([nm, gdrpr, anm, cnf, ccc, st, en, dr, est, een])\n",
    "#\n",
    "fils = sorted(os.listdir(gdrpr+anm))\n",
    "# fils = [f for f in fils if f == cnf]\n",
    "fils\n",
    "#\n",
    "df = pd.DataFrame(lll)\n",
    "df.columns = ['nm', 'gdrpr', 'anm', 'cnf', \n",
    "              'ccc', 'st', 'en', 'dr', 'est', 'een']\n",
    "df['stn'] = df['st']-df['st']\n",
    "df['enn'] = df['en']-df['st']\n",
    "df.to_csv('../extseq/'+str(tst)+'/regions.csv', index=False)\n",
    "df.tail()"
   ]
  },
  {
   "cell_type": "code",
   "execution_count": 7,
   "id": "79b14a17",
   "metadata": {},
   "outputs": [
    {
     "name": "stdout",
     "output_type": "stream",
     "text": [
      "0\n",
      "1\n",
      "2\n",
      "3\n",
      "4\n",
      "5\n",
      "6\n",
      "7\n",
      "8\n",
      "9\n"
     ]
    }
   ],
   "source": [
    "# Get genomic sequence, broad region\n",
    "for i in range(len(lll)):\n",
    "#     i = 0\n",
    "    print(i)\n",
    "    ref = pysam.FastaFile(lll[i][1]+lll[i][2]+lll[i][3])\n",
    "    cseq = ref.fetch(lll[i][4], lll[i][5]-1, lll[i][6])\n",
    "    seq1 = Seq(cseq)\n",
    "    if lll[i][7] == '-':\n",
    "        seq1 = seq1.reverse_complement() # !!! RC\n",
    "    # Output converted sequence\n",
    "    SeqIO.write(SeqRecord(seq1, id=lll[i][3], description=''), \n",
    "                '../extseq/'+str(tst)+'/'+lll[i][0]+'_brd.fasta', 'fasta')\n",
    "    #\n",
    "    # Calculate CpG percent\n",
    "    reso = 500 #200 #500 # bp\n",
    "    w = reso\n",
    "    q = seq1\n",
    "    yi = []\n",
    "    for sl in range(0,len(q)-w+1,w):\n",
    "        sseq = q[sl:sl+w]\n",
    "        cpg = sseq.count(\"CG\")\n",
    "        cpgp = (cpg / len(sseq)) *100\n",
    "        yi.append(cpgp)\n",
    "    xi = np.arange(0, len(q)-w+1, w)\n",
    "    cpgdf = pd.DataFrame([xi,yi]).T\n",
    "    cpgdf.columns = ['xi', 'yi']\n",
    "    cpgdf.to_csv('../extseq/'+str(tst)+'/'+lll[i][0]+'_brd_cpg1.csv', index=False)"
   ]
  },
  {
   "cell_type": "code",
   "execution_count": 8,
   "id": "b777bebe",
   "metadata": {},
   "outputs": [
    {
     "data": {
      "text/plain": [
       "['Human',\n",
       " '../../../../../../../../Genome/',\n",
       " 'Human/GRCh38/Split/',\n",
       " 'Homo_sapiens.GRCh38.dna.chromosome.1.fa',\n",
       " '1',\n",
       " 83865024,\n",
       " 84389957,\n",
       " '+',\n",
       " 84053062,\n",
       " 84103062]"
      ]
     },
     "execution_count": 8,
     "metadata": {},
     "output_type": "execute_result"
    }
   ],
   "source": [
    "lll[0]"
   ]
  },
  {
   "cell_type": "code",
   "execution_count": 9,
   "id": "cf29f7e1",
   "metadata": {},
   "outputs": [
    {
     "name": "stdout",
     "output_type": "stream",
     "text": [
      "0\n",
      "1\n",
      "2\n",
      "3\n",
      "4\n",
      "5\n",
      "6\n",
      "7\n",
      "8\n",
      "9\n"
     ]
    }
   ],
   "source": [
    "# Get genomic sequence, focussed region\n",
    "for i in range(len(lll)):\n",
    "#     i = 0\n",
    "    print(i)\n",
    "    ref = pysam.FastaFile(lll[i][1]+lll[i][2]+lll[i][3])\n",
    "    cseq = ref.fetch(lll[i][4], lll[i][8]-1, lll[i][9])\n",
    "    seq1 = Seq(cseq)\n",
    "    if lll[i][7] == '-':\n",
    "        seq1 = seq1.reverse_complement() # !!! RC\n",
    "    # Output converted sequence\n",
    "    SeqIO.write(SeqRecord(seq1, id=lll[i][3], description=''), \n",
    "                '../extseq/'+str(tst)+'/'+lll[i][0]+'_foc.fasta', 'fasta')\n",
    "    #\n",
    "    # Calculate CpG percent\n",
    "    reso = 100 #200 #500 # bp\n",
    "    w = reso\n",
    "    q = seq1\n",
    "    yi = []\n",
    "    for sl in range(0,len(q)-w+1,w):\n",
    "        sseq = q[sl:sl+w]\n",
    "        cpg = sseq.count(\"CG\")\n",
    "        cpgp = (cpg / len(sseq)) *100\n",
    "        yi.append(cpgp)\n",
    "    xi = np.arange(0, len(q)-w+1, w)\n",
    "    cpgdf = pd.DataFrame([xi,yi]).T\n",
    "    cpgdf.columns = ['xi', 'yi']\n",
    "    cpgdf.to_csv('../extseq/'+str(tst)+'/'+lll[i][0]+'_foc_cpg1.csv', index=False)"
   ]
  },
  {
   "cell_type": "code",
   "execution_count": 10,
   "id": "083690db",
   "metadata": {},
   "outputs": [],
   "source": [
    "## ANNOT"
   ]
  },
  {
   "cell_type": "code",
   "execution_count": 11,
   "id": "712d717b",
   "metadata": {},
   "outputs": [
    {
     "data": {
      "text/plain": [
       "{'Hs': 'Human',\n",
       " 'Mm': 'Mouse',\n",
       " 'La': 'Elephant',\n",
       " 'Ta': 'Echidna',\n",
       " 'Oa': 'Platypus',\n",
       " 'Ga': 'Agilis',\n",
       " 'Md2': 'Opossum',\n",
       " 'Pc': 'Koala',\n",
       " 'Me': 'Tammar',\n",
       " 'Tv2': 'Brushtail'}"
      ]
     },
     "execution_count": 11,
     "metadata": {},
     "output_type": "execute_result"
    }
   ],
   "source": [
    "mydict = {\n",
    "    'Hs':'Human',\n",
    "    'Mm':'Mouse',\n",
    "    'La':'Elephant',\n",
    "    'Ta':'Echidna',\n",
    "    'Oa':'Platypus',\n",
    "    'Ga':'Agilis',\n",
    "    'Md2':'Opossum',\n",
    "    'Pc':'Koala',\n",
    "    'Me':'Tammar',\n",
    "    'Tv2':\"Brushtail\" # 2\n",
    "}\n",
    "mydict"
   ]
  },
  {
   "cell_type": "code",
   "execution_count": 12,
   "id": "234600b3",
   "metadata": {},
   "outputs": [],
   "source": [
    "regs = pd.read_csv('../extseq/'+str(tst)+'/regions.csv')\n",
    "# regs"
   ]
  },
  {
   "cell_type": "code",
   "execution_count": 13,
   "id": "e9a5c00f",
   "metadata": {},
   "outputs": [
    {
     "data": {
      "text/plain": [
       "['cus_region_Ga_r.csv',\n",
       " 'cus_region_Hs_f.csv',\n",
       " 'cus_region_La_r.csv',\n",
       " 'cus_region_Md2_r.csv',\n",
       " 'cus_region_Me_f.csv',\n",
       " 'cus_region_Mm_r.csv',\n",
       " 'cus_region_Oa_r.csv',\n",
       " 'cus_region_Pc_f.csv',\n",
       " 'cus_region_Ta_f.csv',\n",
       " 'cus_region_Tv2_r.csv',\n",
       " 'cus_region_Tv_r.csv']"
      ]
     },
     "execution_count": 13,
     "metadata": {},
     "output_type": "execute_result"
    }
   ],
   "source": [
    "andir = '../ann/'\n",
    "anns = sorted(os.listdir(andir))\n",
    "anns = [a for a in anns if 'comb' not in a]\n",
    "anns = [a for a in anns if '_region_' in a]\n",
    "anns = [a for a in anns if '.~lock' not in a]\n",
    "anns"
   ]
  },
  {
   "cell_type": "code",
   "execution_count": 14,
   "id": "b1552878",
   "metadata": {},
   "outputs": [],
   "source": [
    "ddd = []\n",
    "for a in range(len(anns)):\n",
    "    df = pd.read_csv(andir+anns[a])\n",
    "    abrv = anns[a].split('_')[2]\n",
    "    if abrv in list(mydict.keys()):\n",
    "        df['abrv'] = abrv\n",
    "        sp = mydict[abrv]\n",
    "        df['sp'] = sp\n",
    "        dn = [s for s in anns[a].split('_') if '.csv' in s][0]\n",
    "        dn = dn.replace('.csv','')\n",
    "        #\n",
    "        # RC seqs\n",
    "        df['dir'] = dn\n",
    "    #     df['start_rc'] = df['start']\n",
    "    #     df['end_rc'] = df['end']\n",
    "        cen = regs[regs['nm']==sp]['en'].iloc[0]\n",
    "        cst = regs[regs['nm']==sp]['st'].iloc[0]\n",
    "        if dn == 'r':\n",
    "            # reverse complement position !!!\n",
    "            df['start_rc'] = abs(df['end'] - cen) + cst\n",
    "            df['end_rc'] = abs(df['start'] - cen) + cst\n",
    "            rs = []\n",
    "            for s in df['strand']:\n",
    "                if s == '+':\n",
    "                    rs.append('-')\n",
    "                if s == '-':\n",
    "                    rs.append('+')\n",
    "            df['strand_rc'] = rs\n",
    "        else:\n",
    "            df['start_rc'] = df['start']\n",
    "            df['end_rc'] = df['end']\n",
    "            df['strand_rc'] = df['strand']\n",
    "        #\n",
    "        # strands\n",
    "        pm = [d.replace('+','1').replace('-','-1') for d in df['strand_rc']]\n",
    "        df['pm'] = pm\n",
    "        #\n",
    "        #\n",
    "        ddd.append(df)\n",
    "dee = pd.concat(ddd)\n",
    "dee.to_csv(andir+'ann_comb'+str(tst)+'_region.csv', index=False, sep='\\t')"
   ]
  },
  {
   "cell_type": "code",
   "execution_count": 15,
   "id": "55fb6d56",
   "metadata": {},
   "outputs": [
    {
     "data": {
      "text/plain": [
       "['cus_PRKACB_Ga_r.csv',\n",
       " 'cus_PRKACB_Hs_f.csv',\n",
       " 'cus_PRKACB_La_r.csv',\n",
       " 'cus_PRKACB_Md_r.csv',\n",
       " 'cus_PRKACB_Me_f.csv',\n",
       " 'cus_PRKACB_Mm_r.csv',\n",
       " 'cus_PRKACB_Oa_r.csv',\n",
       " 'cus_PRKACB_Pc_f.csv',\n",
       " 'cus_PRKACB_Ta_f.csv',\n",
       " 'cus_PRKACB_Tv_r.csv']"
      ]
     },
     "execution_count": 15,
     "metadata": {},
     "output_type": "execute_result"
    }
   ],
   "source": [
    "andir2 = '../ann/'\n",
    "anns2 = sorted(os.listdir(andir2))\n",
    "anns2 = [a for a in anns2 if 'comb' not in a]\n",
    "anns2 = [a for a in anns2 if '_PRKACB_' in a]\n",
    "anns2 = [a for a in anns2 if '.~lock' not in a]\n",
    "anns2"
   ]
  },
  {
   "cell_type": "code",
   "execution_count": 24,
   "id": "3fd57f7e",
   "metadata": {},
   "outputs": [],
   "source": [
    "ddd = []\n",
    "for a in range(len(anns2)):\n",
    "    df = pd.read_csv(andir+anns2[a])\n",
    "    abrv = anns[a].split('_')[2]\n",
    "    if abrv in list(mydict.keys()):\n",
    "        df['abrv'] = abrv\n",
    "        sp = mydict[abrv]\n",
    "        df['sp'] = sp\n",
    "        dn = [s for s in anns2[a].split('_') if '.csv' in s][0]\n",
    "        dn = dn.replace('.csv','')\n",
    "        #\n",
    "        # RC seqs\n",
    "        df['dir'] = dn\n",
    "    #     df['start_rc'] = df['start']\n",
    "    #     df['end_rc'] = df['end']\n",
    "        cen = regs[regs['nm']==sp]['en'].iloc[0]\n",
    "        cst = regs[regs['nm']==sp]['st'].iloc[0]\n",
    "        if dn == 'r':\n",
    "            # reverse complement position !!!\n",
    "            df['start_rc'] = abs(df['end'] - cen) + cst\n",
    "            df['end_rc'] = abs(df['start'] - cen) + cst\n",
    "            rs = []\n",
    "            for s in df['strand']:\n",
    "                if s == '+':\n",
    "                    rs.append('-')\n",
    "                if s == '-':\n",
    "                    rs.append('+')\n",
    "            df['strand_rc'] = rs\n",
    "        else:\n",
    "            df['start_rc'] = df['start']\n",
    "            df['end_rc'] = df['end']\n",
    "            df['strand_rc'] = df['strand']\n",
    "        #\n",
    "        # strands\n",
    "        pm = [d.replace('+','1').replace('-','-1') for d in df['strand_rc']]\n",
    "        df['pm'] = pm\n",
    "        #\n",
    "        #\n",
    "        ddd.append(df)\n",
    "dee = pd.concat(ddd)\n",
    "dee.to_csv(andir+'ann_comb'+str(tst)+'_PRKACB.csv', index=False, sep='\\t')"
   ]
  },
  {
   "cell_type": "code",
   "execution_count": 25,
   "id": "1733e45d-4cbd-4f59-8232-7764749a8897",
   "metadata": {},
   "outputs": [],
   "source": [
    " for a in range(len(anns)):\n",
    "     a"
   ]
  },
  {
   "cell_type": "code",
   "execution_count": 26,
   "id": "a45ade69-5ea1-4de3-b934-116e4dbeacbc",
   "metadata": {},
   "outputs": [
    {
     "data": {
      "text/plain": [
       "range(0, 10)"
      ]
     },
     "execution_count": 26,
     "metadata": {},
     "output_type": "execute_result"
    }
   ],
   "source": [
    "range(len(anns2))"
   ]
  },
  {
   "cell_type": "code",
   "execution_count": 27,
   "id": "4d2166df",
   "metadata": {},
   "outputs": [
    {
     "data": {
      "text/plain": [
       "(['cus_PRKACB_Ga_r.csv',\n",
       "  'cus_PRKACB_Hs_f.csv',\n",
       "  'cus_PRKACB_La_r.csv',\n",
       "  'cus_PRKACB_Md_r.csv',\n",
       "  'cus_PRKACB_Me_f.csv',\n",
       "  'cus_PRKACB_Mm_r.csv',\n",
       "  'cus_PRKACB_Oa_r.csv',\n",
       "  'cus_PRKACB_Pc_f.csv',\n",
       "  'cus_PRKACB_Ta_f.csv',\n",
       "  'cus_PRKACB_Tv_r.csv'],\n",
       " 10)"
      ]
     },
     "execution_count": 27,
     "metadata": {},
     "output_type": "execute_result"
    }
   ],
   "source": [
    "anns2, a"
   ]
  },
  {
   "cell_type": "code",
   "execution_count": 28,
   "id": "97487734",
   "metadata": {},
   "outputs": [
    {
     "data": {
      "text/plain": [
       "['cus_lncPRKACB_Me_f.csv']"
      ]
     },
     "execution_count": 28,
     "metadata": {},
     "output_type": "execute_result"
    }
   ],
   "source": [
    "andir3 = '../ann/'\n",
    "anns3 = sorted(os.listdir(andir3))\n",
    "anns3 = [a for a in anns3 if 'comb' not in a]\n",
    "anns3 = [a for a in anns3 if '_lncPRKACB_' in a]\n",
    "anns3 = [a for a in anns3 if '.~lock' not in a]\n",
    "anns3"
   ]
  },
  {
   "cell_type": "code",
   "execution_count": 29,
   "id": "1c344ea9",
   "metadata": {},
   "outputs": [],
   "source": [
    "ddd = []\n",
    "for a in range(len(anns3)):\n",
    "    df = pd.read_csv(andir3+anns3[a])\n",
    "    abrv = anns3[a].split('_')[2]\n",
    "    if abrv in list(mydict.keys()):\n",
    "        df['abrv'] = abrv\n",
    "        sp = mydict[abrv]\n",
    "        df['sp'] = sp\n",
    "        dn = [s for s in anns3[a].split('_') if '.csv' in s][0]\n",
    "        dn = dn.replace('.csv','')\n",
    "        #\n",
    "        # RC seqs\n",
    "        df['dir'] = dn\n",
    "    #     df['start_rc'] = df['start']\n",
    "    #     df['end_rc'] = df['end']\n",
    "        cen = regs[regs['nm']==sp]['en'].iloc[0]\n",
    "        cst = regs[regs['nm']==sp]['st'].iloc[0]\n",
    "        if dn == 'r':\n",
    "            # reverse complement position !!!\n",
    "            df['start_rc'] = abs(df['end'] - cen) + cst\n",
    "            df['end_rc'] = abs(df['start'] - cen) + cst\n",
    "            rs = []\n",
    "            for s in df['strand']:\n",
    "                if s == '+':\n",
    "                    rs.append('-')\n",
    "                if s == '-':\n",
    "                    rs.append('+')\n",
    "            df['strand_rc'] = rs\n",
    "        else:\n",
    "            df['start_rc'] = df['start']\n",
    "            df['end_rc'] = df['end']\n",
    "            df['strand_rc'] = df['strand']\n",
    "        #\n",
    "        # strands\n",
    "        pm = [d.replace('+','1').replace('-','-1') for d in df['strand_rc']]\n",
    "        df['pm'] = pm\n",
    "        #\n",
    "        #\n",
    "        ddd.append(df)\n",
    "dee = pd.concat(ddd)\n",
    "dee.to_csv(andir+'ann_comb'+str(tst)+'_lncPRKACB.csv', index=False, sep='\\t')"
   ]
  },
  {
   "cell_type": "code",
   "execution_count": null,
   "id": "87590714",
   "metadata": {},
   "outputs": [],
   "source": []
  },
  {
   "cell_type": "code",
   "execution_count": null,
   "id": "4d99fc11-4a8e-476b-b2bd-9791e487cd3e",
   "metadata": {},
   "outputs": [],
   "source": []
  }
 ],
 "metadata": {
  "kernelspec": {
   "display_name": "Python 3 (ipykernel)",
   "language": "python",
   "name": "python3"
  },
  "language_info": {
   "codemirror_mode": {
    "name": "ipython",
    "version": 3
   },
   "file_extension": ".py",
   "mimetype": "text/x-python",
   "name": "python",
   "nbconvert_exporter": "python",
   "pygments_lexer": "ipython3",
   "version": "3.8.10"
  }
 },
 "nbformat": 4,
 "nbformat_minor": 5
}
