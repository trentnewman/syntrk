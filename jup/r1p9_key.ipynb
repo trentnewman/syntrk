{
 "cells": [
  {
   "cell_type": "code",
   "execution_count": 1,
   "id": "775eb6a1",
   "metadata": {},
   "outputs": [],
   "source": [
    "import os\n",
    "import subprocess\n",
    "import numpy as np\n",
    "import pandas as pd\n",
    "import re\n",
    "\n",
    "import matplotlib as mpl\n",
    "import matplotlib.pyplot as plt\n",
    "import matplotlib.patches as mpatches\n",
    "from matplotlib.pyplot import figure\n",
    "\n",
    "from Bio import SeqIO\n",
    "from pygenomeviz import GenomeViz"
   ]
  },
  {
   "cell_type": "code",
   "execution_count": 2,
   "id": "02f2b227-1f79-453f-8e48-480bae3c3c0a",
   "metadata": {},
   "outputs": [],
   "source": [
    "plt.rc('text', usetex=True)\n",
    "plt.rc(\n",
    "    'text.latex', \n",
    "    preamble=r'''\n",
    "    \\usepackage{dejavu}\n",
    "    \\renewcommand{\\familydefault}{\\sfdefault}\n",
    "    \\usepackage{mathastext}\n",
    "    ''')"
   ]
  },
  {
   "cell_type": "code",
   "execution_count": 3,
   "id": "474ec506",
   "metadata": {},
   "outputs": [],
   "source": [
    "tst = 1\n",
    "tstt = 'test'+str(tst)"
   ]
  },
  {
   "cell_type": "code",
   "execution_count": 4,
   "id": "bfd93710-3bcd-4456-a41e-e499ebe83884",
   "metadata": {},
   "outputs": [],
   "source": [
    "# https://www.desmos.com/calculator/w9jrdpvsmk"
   ]
  },
  {
   "cell_type": "code",
   "execution_count": 5,
   "id": "c72b54a6-1ec0-46e8-95e0-f8449345d61e",
   "metadata": {},
   "outputs": [
    {
     "data": {
      "image/png": "[encoded data removed]",
      "text/plain": [
       "<Figure size 216x144 with 1 Axes>"
      ]
     },
     "metadata": {
      "needs_background": "light"
     },
     "output_type": "display_data"
    }
   ],
   "source": [
    "# plot\n",
    "fig, ax = plt.subplots(\n",
    "    figsize=(\n",
    "        3, # width (consider also x limits)\n",
    "        2 # height (consider also y limits)\n",
    "    ))\n",
    "# plt.tight_layout()\n",
    "# plt.subplots_adjust(left=0, bottom=0, right=1, top=1, wspace=0, hspace=0)\n",
    "# \n",
    "# equations\n",
    "# forward\n",
    "fw_y0 = np.arange(1.5, 2.5+0.01, 0.01)\n",
    "fw_x1 = 0.375 * np.sin( ( fw_y0 - 0.5 ) / 0.5 ) + 1.2\n",
    "fw_x2 = 0.375 * np.sin( ( fw_y0 - 0.5 ) / 0.5 ) + 1.8\n",
    "# reverse (inversion)\n",
    "rv_y0 = np.arange(0, 1+0.01, 0.01)\n",
    "rv_x1 = 0.5 * np.sin( ( rv_y0 - 0.5 ) / 0.5 ) + 1.5\n",
    "rv_x2 = -0.5 * np.sin( ( rv_y0 - 0.5 ) / 0.5 ) + 1.5\n",
    "# linear\n",
    "li_y0 = np.arange(3.0, 4.0+0.01, 0.01)\n",
    "li_x1 = 1\n",
    "li_x2 = 2\n",
    "#\n",
    "# range\n",
    "xmi = 0.5\n",
    "xma = 7\n",
    "ymi = -0.50 #-0.25\n",
    "yma = 4.50 #3.75 #2.5\n",
    "xad = 0.15\n",
    "yad = 0.15\n",
    "#\n",
    "# background\n",
    "background = mpatches.FancyBboxPatch(\n",
    "    (xmi+xad,ymi+yad), # xy lower left\n",
    "    xma-xmi-(xad*2), # width\n",
    "    yma-ymi-(yad*2), # height\n",
    "    lw=3, ec=\"dimgrey\", color=\"#ffffff\", #\"whitesmoke\",\n",
    "    boxstyle=mpatches.BoxStyle(\"Round\", pad=0.05)) # Round, 'Square'\n",
    "ax.add_patch(background)\n",
    "#\n",
    "# plots\n",
    "# forward\n",
    "ax.fill_betweenx(\n",
    "    fw_y0, fw_x1, fw_x2,\n",
    "    color='#454545' #dimgrey\n",
    ")\n",
    "# reverse\n",
    "ax.fill_betweenx(\n",
    "    rv_y0, rv_x1, rv_x2,\n",
    "    color='orange'\n",
    ")\n",
    "# linear\n",
    "ax.fill_betweenx(\n",
    "    li_y0, li_x1, li_x2,\n",
    "    color='#a8e8a8' #lime\n",
    ")\n",
    "#\n",
    "# Text\n",
    "ax.text(2.5, 2.0, \n",
    "        s='Alignment', \n",
    "        ha='left', va='center_baseline',\n",
    "        fontsize=20)\n",
    "#\n",
    "ax.text(2.5, 0.5, \n",
    "        s='Inversion', \n",
    "        ha='left', va='center_baseline',\n",
    "        fontsize=20)\n",
    "#\n",
    "ax.text(2.5, 3.5, \n",
    "        s='Highlight', \n",
    "        ha='left', va='center_baseline',\n",
    "        fontsize=20)\n",
    "#\n",
    "ax.set_xlim([xmi,xma])\n",
    "ax.set_ylim([ymi,yma])\n",
    "ax.set_axis_off()\n",
    "#\n",
    "plt.rcParams['axes.facecolor']='red'\n",
    "plt.rcParams['savefig.facecolor']='None'\n",
    "#\n",
    "# save\n",
    "plt.savefig(\n",
    "    '../pics/key_lastz.png', \n",
    "    dpi=300, bbox_inches='tight'\n",
    ")\n",
    "# plt.savefig(\n",
    "#     '../pics/key_lastz.eps', \n",
    "#     bbox_inches='tight', format='eps'\n",
    "# )\n",
    "plt.savefig(\n",
    "    '../pics/key_lastz.pdf', \n",
    "    transparent=True, \n",
    "    facecolor=fig.get_facecolor(), #edgecolor='none', \n",
    "    bbox_inches='tight', format='pdf'\n",
    ")\n",
    "# plt.savefig(\n",
    "#     '../pics/key_lastz.svg', \n",
    "#     transparent=True, \n",
    "#     bbox_inches='tight', format='svg'\n",
    "# )\n",
    "plt.show()"
   ]
  },
  {
   "cell_type": "code",
   "execution_count": 6,
   "id": "303a50ea-e5d4-43aa-b26d-38ec1cebdd0f",
   "metadata": {},
   "outputs": [
    {
     "data": {
      "text/plain": [
       "{'LTR': '#ff7fff',\n",
       " 'LINE/L2': '#7fffff',\n",
       " 'Other\\nLINE': '#7f7fff',\n",
       " 'SINE': '#7fb17f',\n",
       " 'Other\\nrepeat': '#ffea7f'}"
      ]
     },
     "execution_count": 6,
     "metadata": {},
     "output_type": "execute_result"
    }
   ],
   "source": [
    "reppy = [\n",
    "    'LTR',\n",
    "    'LINE/L2',\n",
    "    'Other\\nLINE',\n",
    "    'SINE',\n",
    "    'Other\\nrepeat',\n",
    "    'Prob.'\n",
    "]\n",
    "cully = [\n",
    "    '#ff7fff', #'magenta',\n",
    "    '#7fffff', #'cyan',\n",
    "    '#7f7fff', #'blue',\n",
    "    '#7fb17f', #'darkgreen',\n",
    "    '#ffea7f', #'gold'\n",
    "]\n",
    "key_value_pairs = zip(reppy, cully)\n",
    "my_dict = dict(key_value_pairs)\n",
    "#\n",
    "reppy2 = [\n",
    "    'LTR',\n",
    "    'LINE/L2',\n",
    "    'Other\\nLINE',\n",
    "    'SINE',\n",
    "    'Other\\nrepeat',\n",
    "    'Prob.'\n",
    "]\n",
    "key_value_pairs2 = zip(reppy2, cully)\n",
    "my_dict2 = dict(key_value_pairs2)\n",
    "my_dict2"
   ]
  },
  {
   "cell_type": "code",
   "execution_count": 7,
   "id": "adff3bd3-a23a-4539-9c0b-3ac7e785bbb7",
   "metadata": {},
   "outputs": [
    {
     "data": {
      "image/png": "[encoded data removed]",
      "text/plain": [
       "<Figure size 432x288 with 1 Axes>"
      ]
     },
     "metadata": {
      "needs_background": "light"
     },
     "output_type": "display_data"
    }
   ],
   "source": [
    "colors = list(my_dict2.values())\n",
    "f = lambda m,c: plt.plot(\n",
    "    [],[], \n",
    "    marker='s', alpha=1, mew=0.75, markersize=9, color=c, ls=\"none\",\n",
    "    markeredgecolor='grey'\n",
    ")[0]\n",
    "handles = [f(\"s\", colors[i]) for i in range(5)]\n",
    "labels = list(my_dict2.keys())\n",
    "legend = plt.legend(\n",
    "    handles, labels, \n",
    "    loc='center', framealpha=1, frameon=True,\n",
    "    handletextpad=0.4, borderpad=0.5, facecolor=\"#ffffff\", #\"whitesmoke\", \n",
    "    edgecolor='dimgrey',\n",
    "    # frameon=True, fancybox=True#, boxstyle='square'\n",
    ")\n",
    "# legend.legendHandles[0].set_markeredgecolor(mpl.colors.ColorConverter().to_rgba('red', alpha=1))\n",
    "# \n",
    "plt.rcParams['axes.facecolor']='white'\n",
    "plt.rcParams['savefig.facecolor']='None'\n",
    "#\n",
    "def export_legend(legend, filename=\"../pics/key_reps.png\", expand=[-5,-5,5,5]):\n",
    "    fig  = legend.figure\n",
    "    fig.canvas.draw()\n",
    "    bbox  = legend.get_window_extent()\n",
    "    bbox = bbox.from_extents(*(bbox.extents + np.array(expand)))\n",
    "    bbox = bbox.transformed(fig.dpi_scale_trans.inverted())\n",
    "    fig.savefig(filename, dpi=300, bbox_inches=bbox)\n",
    "export_legend(legend)\n",
    "#\n",
    "def export_legend(legend, filename=\"../pics/key_reps.pdf\", expand=[-5,-5,5,5]):\n",
    "    fig  = legend.figure\n",
    "    fig.canvas.draw()\n",
    "    bbox  = legend.get_window_extent()\n",
    "    bbox = bbox.from_extents(*(bbox.extents + np.array(expand)))\n",
    "    bbox = bbox.transformed(fig.dpi_scale_trans.inverted())\n",
    "    fig.savefig(filename, bbox_inches=bbox,format='pdf')\n",
    "export_legend(legend)\n",
    "#\n",
    "plt.show()"
   ]
  },
  {
   "cell_type": "code",
   "execution_count": 8,
   "id": "31a76654-059d-49e3-b429-7138b1bcd4c8",
   "metadata": {},
   "outputs": [],
   "source": [
    "# dir(legend)"
   ]
  },
  {
   "cell_type": "code",
   "execution_count": 9,
   "id": "12bdc066-7d2c-48af-bd85-d6200ffbb572",
   "metadata": {},
   "outputs": [],
   "source": [
    "# dir(legend.legendHandles[0])"
   ]
  },
  {
   "cell_type": "code",
   "execution_count": null,
   "id": "81811ef0-f6cc-4947-a18c-7c2c4814cc2d",
   "metadata": {},
   "outputs": [],
   "source": []
  }
 ],
 "metadata": {
  "kernelspec": {
   "display_name": "Python 3 (ipykernel)",
   "language": "python",
   "name": "python3"
  },
  "language_info": {
   "codemirror_mode": {
    "name": "ipython",
    "version": 3
   },
   "file_extension": ".py",
   "mimetype": "text/x-python",
   "name": "python",
   "nbconvert_exporter": "python",
   "pygments_lexer": "ipython3",
   "version": "3.8.10"
  }
 },
 "nbformat": 4,
 "nbformat_minor": 5
}
