{
 "cells": [
  {
   "cell_type": "code",
   "execution_count": 18,
   "id": "f540b1b8",
   "metadata": {},
   "outputs": [],
   "source": [
    "import os\n",
    "import subprocess\n",
    "from Bio import AlignIO\n",
    "import pandas as pd"
   ]
  },
  {
   "cell_type": "code",
   "execution_count": 19,
   "id": "2eb95554",
   "metadata": {},
   "outputs": [],
   "source": [
    "tst = 1"
   ]
  },
  {
   "cell_type": "code",
   "execution_count": 20,
   "id": "fa8840ad",
   "metadata": {},
   "outputs": [],
   "source": [
    "## LSTZ"
   ]
  },
  {
   "cell_type": "code",
   "execution_count": 21,
   "id": "117771da",
   "metadata": {},
   "outputs": [
    {
     "data": {
      "text/plain": [
       "['ann', 'test1', 'README.md', 'extseq', 'jup', '.git', 'refchrs', 'cmpar']"
      ]
     },
     "execution_count": 21,
     "metadata": {},
     "output_type": "execute_result"
    }
   ],
   "source": [
    "#\n",
    "ddir = '../'\n",
    "ndir = 'test'+str(tst)\n",
    "os.listdir(ddir)"
   ]
  },
  {
   "cell_type": "code",
   "execution_count": 22,
   "id": "24a68e0b",
   "metadata": {},
   "outputs": [
    {
     "name": "stderr",
     "output_type": "stream",
     "text": [
      "mkdir: cannot create directory ‘../test1’: File exists\n",
      "mkdir: cannot create directory ‘../test1/lst’: File exists\n"
     ]
    }
   ],
   "source": [
    "#\n",
    "try:\n",
    "    subprocess.call(['mkdir',ddir+ndir])\n",
    "    subprocess.call(['mkdir',ddir+ndir+'/'+'lst'])\n",
    "except:\n",
    "    print('dir present')"
   ]
  },
  {
   "cell_type": "code",
   "execution_count": 12,
   "id": "010d7491",
   "metadata": {},
   "outputs": [
    {
     "data": {
      "text/plain": [
       "('/home/trent/Bio/lastz-1.04.15/src/',\n",
       " '/media/trent/INT2TB/root2/Work/UoM/Research/GOI/dmr_lk/tammar/PRKACB/Species/github/syntrk/extseq/1/')"
      ]
     },
     "execution_count": 12,
     "metadata": {},
     "output_type": "execute_result"
    }
   ],
   "source": [
    "# LastZ program location\n",
    "lst_loc = '/home/trent/Bio/'\n",
    "lst_nm = 'lastz-1.04.15/src/'\n",
    "lst_pl = lst_loc+lst_nm\n",
    "# Synteny track location\n",
    "cpte = '/media/trent/INT2TB/root2/'\n",
    "g_loc = cpte+'Work/UoM/Research/GOI/dmr_lk/tammar/PRKACB/Species/github/syntrk/extseq/'+str(tst)+'/'\n",
    "lst_pl, g_loc"
   ]
  },
  {
   "cell_type": "code",
   "execution_count": 13,
   "id": "1d119420",
   "metadata": {},
   "outputs": [],
   "source": [
    "# loop, broad region\n",
    "df = pd.read_csv('../cmpar/cmpr'+str(tst)+'_brd.csv', sep=',')\n",
    "for i in range(len(df['num'])):\n",
    "    #\n",
    "    onam = 'out'+\"{:02d}\".format(df.iloc[i]['num'])\n",
    "    #\n",
    "    g1 = df.iloc[i]['a']\n",
    "    g2 = df.iloc[i]['b']\n",
    "    #\n",
    "    cmds = [lst_pl+'lastz']\n",
    "    cmds = cmds+[g_loc+g1]\n",
    "    cmds = cmds+[g_loc+g2]\n",
    "    cmds = cmds+[\n",
    "        '--transition',\n",
    "        '--step=1',\n",
    "        '--gfextend',\n",
    "        '--chain',\n",
    "        '--gapped',\n",
    "        '--strand=both',\n",
    "    ]\n",
    "    cmds1 = cmds+['‑‑format=rdotplot']\n",
    "    cmds2 = cmds+['‑‑format=maf']\n",
    "    #\n",
    "    f1 = open(ddir+ndir+'/'+'lst'+'/'+onam+'_brd.tsv', 'w')\n",
    "    ps1 = subprocess.Popen(cmds1, stdout=f1)\n",
    "    ps1.wait()\n",
    "    f2 = open(ddir+ndir+'/'+'lst'+'/'+onam+'_brd.maf', 'w')\n",
    "    ps2 = subprocess.Popen(cmds2, stdout=f2)\n",
    "    ps2.wait()"
   ]
  },
  {
   "cell_type": "code",
   "execution_count": 14,
   "id": "4b085792",
   "metadata": {},
   "outputs": [],
   "source": [
    "# loop, focussed region\n",
    "df = pd.read_csv('../cmpar/cmpr'+str(tst)+'_foc.csv', sep=',')\n",
    "for i in range(len(df['num'])):\n",
    "    #\n",
    "    onam = 'out'+\"{:02d}\".format(df.iloc[i]['num'])\n",
    "    #\n",
    "    g1 = df.iloc[i]['a']\n",
    "    g2 = df.iloc[i]['b']\n",
    "    #\n",
    "    cmds = [lst_pl+'lastz']\n",
    "    cmds = cmds+[g_loc+g1]\n",
    "    cmds = cmds+[g_loc+g2]\n",
    "    cmds = cmds+[\n",
    "        '--transition',\n",
    "        '--step=1',\n",
    "        '--gfextend',\n",
    "        '--chain',\n",
    "        '--gapped',\n",
    "        '--strand=both',\n",
    "    ]\n",
    "    cmds1 = cmds+['‑‑format=rdotplot']\n",
    "    cmds2 = cmds+['‑‑format=maf']\n",
    "    #\n",
    "    f1 = open(ddir+ndir+'/'+'lst'+'/'+onam+'_foc.tsv', 'w')\n",
    "    ps1 = subprocess.Popen(cmds1, stdout=f1)\n",
    "    ps1.wait()\n",
    "    f2 = open(ddir+ndir+'/'+'lst'+'/'+onam+'_foc.maf', 'w')\n",
    "    ps2 = subprocess.Popen(cmds2, stdout=f2)\n",
    "    ps2.wait()"
   ]
  },
  {
   "cell_type": "code",
   "execution_count": 15,
   "id": "91720a31",
   "metadata": {},
   "outputs": [],
   "source": [
    "## PCOM"
   ]
  },
  {
   "cell_type": "code",
   "execution_count": 16,
   "id": "b891956b",
   "metadata": {},
   "outputs": [],
   "source": [
    "# Get coords, brd region\n",
    "df = pd.read_csv('../cmpar/cmpr'+str(tst)+'_brd.csv',sep=',')\n",
    "dirrie = '../test'+str(tst)+'/'\n",
    "fils = sorted(os.listdir(dirrie+'lst/'))\n",
    "fils = [f for f in fils if '_brd.maf' in f]\n",
    "# fils\n",
    "allie = []\n",
    "for f in fils:\n",
    "    alignments = AlignIO.parse(open(dirrie+'/lst/'+f), \"maf\")\n",
    "    records = []\n",
    "    for record in alignments:\n",
    "        records.append(record)\n",
    "    rrd = []\n",
    "    for r in range(len(records)):\n",
    "        rs = records[r][0].annotations['start']\n",
    "        qs = records[r][1].annotations['start']\n",
    "        rl = records[r][0].annotations['size']\n",
    "        ql = records[r][1].annotations['size']\n",
    "        re = rs+rl        \n",
    "        if records[r][0].annotations['strand'] == -1:\n",
    "            re = rs-rl  #- # shouldn't have any for ref          \n",
    "        else:\n",
    "            re = rs+rl\n",
    "        if records[r][1].annotations['strand'] == -1:\n",
    "            qqt = records[r][1].annotations['start']\n",
    "            qqs = records[r][1].annotations['size']\n",
    "            qqz = records[r][1].annotations['srcSize']\n",
    "            qs = qqz-qqt\n",
    "            qe = (qqz-qqt)-qqs\n",
    "#             qe = qs-ql  #- # The complicated thing above is correct\n",
    "        else:\n",
    "#             print('+')\n",
    "            qe = qs+ql\n",
    "#         rn = records[r][0].name\n",
    "#         qn = records[r][1].name\n",
    "        on = f\n",
    "        on = on.replace('out','')\n",
    "        on = on.replace('_brd','')\n",
    "        on = on.replace('.maf','')\n",
    "        on = int(on)\n",
    "        sdf = df[df['num']==on]\n",
    "        rn = sdf['a'].iloc[0]\n",
    "        qn = sdf['b'].iloc[0]\n",
    "        rrd.append([rs,qs,re,qe,rl,ql,rn,qn])\n",
    "    rrd = pd.DataFrame(rrd)\n",
    "    allie.append(rrd)\n",
    "allie = pd.concat(allie)\n",
    "allie.columns = [\n",
    "    'REF_START','QUERY_START',\n",
    "    'REF_END','QUERY_END',\n",
    "    'REF_LENGTH','QUERY_LENGTH',\n",
    "    'REF_NAME','QUERY_NAME'\n",
    "]\n",
    "allie = allie.reset_index(drop=False)\n",
    "allie.to_csv(dirrie+'coords_brd.tsv',sep='\\t',index=False)"
   ]
  },
  {
   "cell_type": "code",
   "execution_count": 17,
   "id": "ba27d074",
   "metadata": {},
   "outputs": [],
   "source": [
    "# Get coords, foc region\n",
    "df = pd.read_csv('../cmpar/cmpr'+str(tst)+'_foc.csv',sep=',')\n",
    "dirrie = '../test'+str(tst)+'/'\n",
    "fils = sorted(os.listdir(dirrie+'lst/'))\n",
    "fils = [f for f in fils if '_foc.maf' in f]\n",
    "# fils\n",
    "allie = []\n",
    "for f in fils:\n",
    "    alignments = AlignIO.parse(open(dirrie+'/lst/'+f), \"maf\")\n",
    "    records = []\n",
    "    for record in alignments:\n",
    "        records.append(record)\n",
    "    rrd = []\n",
    "    for r in range(len(records)):\n",
    "        rs = records[r][0].annotations['start']\n",
    "        qs = records[r][1].annotations['start']\n",
    "        rl = records[r][0].annotations['size']\n",
    "        ql = records[r][1].annotations['size']\n",
    "        re = rs+rl        \n",
    "        if records[r][0].annotations['strand'] == -1:\n",
    "            re = rs-rl  #- # shouldn't have any for ref          \n",
    "        else:\n",
    "            re = rs+rl\n",
    "        if records[r][1].annotations['strand'] == -1:\n",
    "            qqt = records[r][1].annotations['start']\n",
    "            qqs = records[r][1].annotations['size']\n",
    "            qqz = records[r][1].annotations['srcSize']\n",
    "            qs = qqz-qqt\n",
    "            qe = (qqz-qqt)-qqs\n",
    "#             qe = qs-ql  #- # The complicated thing above is correct\n",
    "        else:\n",
    "#             print('+')\n",
    "            qe = qs+ql\n",
    "#         rn = records[r][0].name\n",
    "#         qn = records[r][1].name\n",
    "        on = f\n",
    "        on = on.replace('out','')\n",
    "        on = on.replace('_foc','')\n",
    "        on = on.replace('.maf','')\n",
    "        on = int(on)\n",
    "        sdf = df[df['num']==on]\n",
    "        rn = sdf['a'].iloc[0]\n",
    "        qn = sdf['b'].iloc[0]\n",
    "        rrd.append([rs,qs,re,qe,rl,ql,rn,qn])\n",
    "    rrd = pd.DataFrame(rrd)\n",
    "    allie.append(rrd)\n",
    "allie = pd.concat(allie)\n",
    "allie.columns = [\n",
    "    'REF_START','QUERY_START',\n",
    "    'REF_END','QUERY_END',\n",
    "    'REF_LENGTH','QUERY_LENGTH',\n",
    "    'REF_NAME','QUERY_NAME'\n",
    "]\n",
    "allie = allie.reset_index(drop=False)\n",
    "allie.to_csv(dirrie+'coords_foc.tsv',sep='\\t',index=False)"
   ]
  },
  {
   "cell_type": "code",
   "execution_count": null,
   "id": "03c1000e",
   "metadata": {},
   "outputs": [],
   "source": []
  }
 ],
 "metadata": {
  "kernelspec": {
   "display_name": "Python 3 (ipykernel)",
   "language": "python",
   "name": "python3"
  },
  "language_info": {
   "codemirror_mode": {
    "name": "ipython",
    "version": 3
   },
   "file_extension": ".py",
   "mimetype": "text/x-python",
   "name": "python",
   "nbconvert_exporter": "python",
   "pygments_lexer": "ipython3",
   "version": "3.8.10"
  }
 },
 "nbformat": 4,
 "nbformat_minor": 5
}
